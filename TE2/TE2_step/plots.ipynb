{
 "cells": [
  {
   "cell_type": "markdown",
   "metadata": {},
   "source": [
    "# Graphiques python pour l'EDO Scalaire du premier ordre\n",
    "## Optimisation du pas d'integration\n"
   ]
  },
  {
   "cell_type": "code",
   "execution_count": 35,
   "metadata": {
    "jupyter": {
     "source_hidden": true
    }
   },
   "outputs": [
    {
     "name": "stdout",
     "output_type": "stream",
     "text": [
      " > fichier data/euler_3.7.txt : 3 lignes d'entete\n",
      " > fichier data/pm_3.7.txt : 3 lignes d'entete\n",
      " > fichier data/rk4_3.7.txt : 3 lignes d'entete\n",
      " < Le graphique data/euler_3.7.pdf a ete cree.\n",
      "   \tVous pouvez le visualiser avec :  okular data/euler_3.7.pdf\n"
     ]
    },
    {
     "data": {
      "image/png": "[encoded data removed]",
      "text/plain": [
       "<Figure size 841.68x595.44 with 1 Axes>"
      ]
     },
     "metadata": {
      "needs_background": "light"
     },
     "output_type": "display_data"
    },
    {
     "data": {
      "text/plain": [
       "<Figure size 432x288 with 0 Axes>"
      ]
     },
     "metadata": {},
     "output_type": "display_data"
    }
   ],
   "source": [
    "import numpy as np\n",
    "import matplotlib.pyplot as plt\n",
    "\n",
    "# Variable a modifier avant execution\n",
    "nomfichier  = \"data/euler_3.7.txt\" # <== fichier de donnees\n",
    "nomfichier2 = \"data/pm_3.7.txt\"\n",
    "nomfichier3 = \"data/rk4_3.7.txt\"\n",
    "\n",
    "\n",
    "# Récupération du nom de la fonction tabulée\n",
    "fonction_tab = nomfichier[ : nomfichier.rfind(\".\")]\n",
    "fonction_tab2 = nomfichier2[ : nomfichier2.rfind(\".\")]\n",
    "fonction_tab3 = nomfichier3[ : nomfichier3.rfind(\".\")]\n",
    "nomgraph = fonction_tab+\".pdf\" #  idem fic. entree avec extension .pdf\n",
    "\n",
    "try:      # ouverture du fichier de donnees\n",
    "  fich = open(nomfichier, \"r\")\n",
    "  fich2 = open (nomfichier2, \"r\")\n",
    "  fich3 = open (nomfichier3, \"r\")\n",
    "except:\n",
    "  print(\" ! Impossible d'ouvrir le fichier %s.\"%nomfichier )\n",
    "  print(\" ! Verifier le chemin.\\n\")\n",
    "  exit()\n",
    "\n",
    "# Lecture des lignes d'entete du fichier 1\n",
    "\n",
    "ligne = fich.readline().replace(\"\\n\",\"\") # sans caractere de fin de ligne\n",
    "entete= [ ]\n",
    "while( ligne[0] == \"#\" ):\n",
    "   entete.append( ligne[1:] )\n",
    "   ligne =  fich.readline().replace(\"\\n\",\"\")\n",
    "fich.close()\n",
    "print( \" > fichier %s : %d lignes d'entete\"%( nomfichier, len(entete) ) )\n",
    "\n",
    "# Lecture des lignes d'entete du fichier 2\n",
    "ligne2 = fich2.readline().replace(\"\\n\",\"\") # sans caractere de fin de ligne\n",
    "entete2= [ ]\n",
    "while( ligne2[0] == \"#\" ):\n",
    "   entete2.append( ligne2[1:] )\n",
    "   ligne2 =  fich2.readline().replace(\"\\n\",\"\")\n",
    "fich2.close()\n",
    "print( \" > fichier %s : %d lignes d'entete\"%( nomfichier2, len(entete2) ) )\n",
    "\n",
    "# Lecture des lignes d'entete du fichier 3\n",
    "ligne3 = fich3.readline().replace(\"\\n\",\"\") # sans caractere de fin de ligne\n",
    "entete3= [ ]\n",
    "while( ligne3[0] == \"#\" ):\n",
    "   entete3.append( ligne3[1:] )\n",
    "   ligne3 =  fich3.readline().replace(\"\\n\",\"\")\n",
    "fich3.close()\n",
    "print( \" > fichier %s : %d lignes d'entete\"%( nomfichier3, len(entete3) ) )\n",
    "\n",
    "\n",
    "# concatenation des entetes en une seule ligne de titre :\n",
    "titre = \" \".join(entete)\n",
    "\n",
    "# Lecture des donnees du fichier :\n",
    "tab = np.loadtxt( nomfichier, dtype=\"float\")\n",
    "tab2 = np.loadtxt( nomfichier2, dtype=\"float\")\n",
    "tab3 = np.loadtxt( nomfichier3, dtype=\"float\")\n",
    "\n",
    "# Creation des listes d'abscisses/ordonnees : 1ere et 2eme colonnes\n",
    "x  = tab[:,0]\n",
    "y  = tab[:,3]\n",
    "\n",
    "x2 = tab2[:,0]\n",
    "y2 = tab2[:,3]\n",
    "\n",
    "x3 = tab3[:,0]\n",
    "y3 = tab3[:,3]\n",
    "\n",
    "# Creation du graphique\n",
    "plt.figure( figsize=(11.69, 8.27) ) # taille en inches : A4 paysage\n",
    "plt.title( titre, fontsize=8)\n",
    "plt.grid()\n",
    "\n",
    "\n",
    "#Labels des fichiers\n",
    "label_1 = entete[0][ entete[0].rfind(\":\") + 1 : entete[0].rfind(\"_\")] \n",
    "label_2 = entete2[0][ entete2[0].rfind(\":\") + 1 : entete2[0].rfind(\"_\")]\n",
    "label_3 = entete3[0][ entete3[0].rfind(\":\") + 1 : entete3[0].rfind(\"_\")]\n",
    "\n",
    "plt.loglog(x,y,  marker = '+', label=label_1)\n",
    "plt.loglog(x,y2, marker = '+', label=label_2)\n",
    "plt.loglog(x,y3, marker = '+', label=label_3)\n",
    "plt.xlabel(\"x\")                                   # <== variable d'abscisse\n",
    "plt.ylabel(\"y\")                                   # <== variable d'ordonnee\n",
    "\n",
    "\n",
    "plt.autoscale(enable=True, axis='both', tight=None)\n",
    "#plt.xlim(1e-6,1e-2)\n",
    "#plt.ylim(0,20)\n",
    "plt.legend()\n",
    "fig = plt.gcf()\n",
    "fig.savefig(nomgraph) # sauvegarde du fichier au format PDF\n",
    "print(\" < Le graphique %s a ete cree.\"%(nomgraph) )\n",
    "print(\"   \\tVous pouvez le visualiser avec :  okular %s\"%(nomgraph))\n",
    "\n",
    "plt.show()\n",
    "plt.clf() # nettoyage ('clear figure')\n"
   ]
  },
  {
   "cell_type": "code",
   "execution_count": null,
   "metadata": {},
   "outputs": [],
   "source": []
  }
 ],
 "metadata": {
  "kernelspec": {
   "display_name": "Python 3",
   "language": "python",
   "name": "python3"
  },
  "language_info": {
   "codemirror_mode": {
    "name": "ipython",
    "version": 3
   },
   "file_extension": ".py",
   "mimetype": "text/x-python",
   "name": "python",
   "nbconvert_exporter": "python",
   "pygments_lexer": "ipython3",
   "version": "3.8.3"
  }
 },
 "nbformat": 4,
 "nbformat_minor": 4
}
